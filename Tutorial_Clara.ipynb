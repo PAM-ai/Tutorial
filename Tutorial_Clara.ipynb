{
 "cells": [
  {
   "cell_type": "markdown",
   "metadata": {},
   "source": [
    "# Partie 1 : Collecter les données"
   ]
  },
  {
   "cell_type": "code",
   "execution_count": 24,
   "metadata": {},
   "outputs": [],
   "source": [
    "# On importe les librairies dont on va avoir besoin\n",
    "from bs4 import BeautifulSoup\n",
    "from requests import get\n",
    "import pandas as pd"
   ]
  },
  {
   "cell_type": "code",
   "execution_count": 25,
   "metadata": {},
   "outputs": [],
   "source": [
    "# On définit les headers\n",
    "headers = ({'User-Agent': 'Mozilla/5.0 (X11; Linux x86_64) ' \n",
    "                      'AppleWebKit/537.11 (KHTML, like Gecko) '\n",
    "                      'Chrome/23.0.1271.64 Safari/537.11'})"
   ]
  },
  {
   "cell_type": "code",
   "execution_count": 26,
   "metadata": {},
   "outputs": [],
   "source": [
    "# On se connecte sur le site que l'on veut scraper, ici le site espagnol Pisos\n",
    "pisos = \"https://www.pisos.com/alquiler/pisos-madrid/\"\n",
    "response = get(pisos, headers=headers) "
   ]
  },
  {
   "cell_type": "code",
   "execution_count": 27,
   "metadata": {},
   "outputs": [
    {
     "name": "stdout",
     "output_type": "stream",
     "text": [
      "<Response [200]>\n"
     ]
    }
   ],
   "source": [
    "# On regarde si le serveur nous a autourisé à accéder au site (il faut que l'on ait le chiffre 200, si on a 403 ou 404 on ne pourra pas accéder au site)\n",
    "print(response)"
   ]
  },
  {
   "cell_type": "code",
   "execution_count": 28,
   "metadata": {},
   "outputs": [],
   "source": [
    "# On définit nos trois listes que l'on va remplir en scrappant les pages\n",
    "\n",
    "prices = []\n",
    "surface = []\n",
    "location = []\n",
    "\n",
    "# On crée une boucle qui va chercher l'info sur une page puis une autre, etc..\n",
    "\n",
    "for page in range(1,40):\n",
    "    \n",
    "    # On accède à la page\n",
    "    pisos_url = \"https://www.pisos.com/alquiler/pisos-madrid/\" + str(page) + \"/\"\n",
    "    r = get(pisos_url, headers=headers)\n",
    "    \n",
    "    # On la parse pour pouvoir ensuite la scrapper\n",
    "    page_html = BeautifulSoup(r.text, 'html.parser')\n",
    "    \n",
    "    # On définit un objet qui contient les informations de l'annonce\n",
    "    house_containers = page_html.find_all('div', class_=\"information\")\n",
    "    \n",
    "    if house_containers != []:\n",
    "        # Dans ces objects (non vides) on va chercher les différentes informations (inspecte le code source de la page pour comprendre pourquoi j'ai mis ces class_ en particulier)\n",
    "        for container in house_containers:\n",
    "        \n",
    "            # Price\n",
    "            price = container.find('div', class_=\"price\").text\n",
    "            prices.append(price)\n",
    "            \n",
    "            # Surface\n",
    "            area = container.find('div', class_=\"item\").text\n",
    "            surface.append(area)\n",
    "            \n",
    "            # Location\n",
    "            zone = container.find('div', class_=\"location\").text\n",
    "            location.append(zone)"
   ]
  },
  {
   "cell_type": "code",
   "execution_count": 29,
   "metadata": {},
   "outputs": [],
   "source": [
    "# On crée un DataFrame à partir des données collectées dans nos trois listes\n",
    "\n",
    "cols = ['Price', 'Size (m²)', 'Zone']\n",
    "\n",
    "madrid = pd.DataFrame({\n",
    "    \n",
    "    'Price': prices,\n",
    "    'Size (m²)': surface,\n",
    "    'Zone' : location\n",
    "                           })[cols]\n",
    "\n",
    "# On les exporte au format xls et csv\n",
    "\n",
    "madrid.to_excel('madrid_raw.xls')\n",
    "madrid.to_csv('madrid_raw.csv')"
   ]
  },
  {
   "cell_type": "markdown",
   "metadata": {},
   "source": [
    "# 2. Analyse intermédiaire"
   ]
  },
  {
   "cell_type": "code",
   "execution_count": 30,
   "metadata": {},
   "outputs": [
    {
     "data": {
      "text/html": [
       "<div>\n",
       "<style scoped>\n",
       "    .dataframe tbody tr th:only-of-type {\n",
       "        vertical-align: middle;\n",
       "    }\n",
       "\n",
       "    .dataframe tbody tr th {\n",
       "        vertical-align: top;\n",
       "    }\n",
       "\n",
       "    .dataframe thead th {\n",
       "        text-align: right;\n",
       "    }\n",
       "</style>\n",
       "<table border=\"1\" class=\"dataframe\">\n",
       "  <thead>\n",
       "    <tr style=\"text-align: right;\">\n",
       "      <th></th>\n",
       "      <th>Price</th>\n",
       "      <th>Size (m²)</th>\n",
       "      <th>Zone</th>\n",
       "    </tr>\n",
       "  </thead>\n",
       "  <tbody>\n",
       "    <tr>\n",
       "      <td>0</td>\n",
       "      <td>\\r\\n                        2.100 €/mes\\n</td>\n",
       "      <td>\\r\\n                            313 m²\\r\\n    ...</td>\n",
       "      <td>\\r\\n                La Berzosilla (Torrelodone...</td>\n",
       "    </tr>\n",
       "    <tr>\n",
       "      <td>1</td>\n",
       "      <td>\\r\\n                        700 €/mes\\n</td>\n",
       "      <td>\\r\\n                            60 m²\\r\\n     ...</td>\n",
       "      <td>\\r\\n                Zona Noreste (Torrejón de ...</td>\n",
       "    </tr>\n",
       "    <tr>\n",
       "      <td>2</td>\n",
       "      <td>\\r\\n                        750 €/mes\\n</td>\n",
       "      <td>\\r\\n                            80 m²\\r\\n     ...</td>\n",
       "      <td>\\r\\n                San Agustín del Guadalix\\r...</td>\n",
       "    </tr>\n",
       "    <tr>\n",
       "      <td>3</td>\n",
       "      <td>\\r\\n                        1.500 €/mes\\n</td>\n",
       "      <td>\\r\\n                            255 m²\\r\\n    ...</td>\n",
       "      <td>\\r\\n                San Agustín del Guadalix\\r...</td>\n",
       "    </tr>\n",
       "    <tr>\n",
       "      <td>4</td>\n",
       "      <td>\\r\\n                        750 €/mes\\n</td>\n",
       "      <td>\\r\\n                            63 m²\\r\\n     ...</td>\n",
       "      <td>\\r\\n                Casco Antiguo (Alcorcón)\\r...</td>\n",
       "    </tr>\n",
       "  </tbody>\n",
       "</table>\n",
       "</div>"
      ],
      "text/plain": [
       "                                       Price  \\\n",
       "0  \\r\\n                        2.100 €/mes\\n   \n",
       "1    \\r\\n                        700 €/mes\\n   \n",
       "2    \\r\\n                        750 €/mes\\n   \n",
       "3  \\r\\n                        1.500 €/mes\\n   \n",
       "4    \\r\\n                        750 €/mes\\n   \n",
       "\n",
       "                                           Size (m²)  \\\n",
       "0  \\r\\n                            313 m²\\r\\n    ...   \n",
       "1  \\r\\n                            60 m²\\r\\n     ...   \n",
       "2  \\r\\n                            80 m²\\r\\n     ...   \n",
       "3  \\r\\n                            255 m²\\r\\n    ...   \n",
       "4  \\r\\n                            63 m²\\r\\n     ...   \n",
       "\n",
       "                                                Zone  \n",
       "0  \\r\\n                La Berzosilla (Torrelodone...  \n",
       "1  \\r\\n                Zona Noreste (Torrejón de ...  \n",
       "2  \\r\\n                San Agustín del Guadalix\\r...  \n",
       "3  \\r\\n                San Agustín del Guadalix\\r...  \n",
       "4  \\r\\n                Casco Antiguo (Alcorcón)\\r...  "
      ]
     },
     "execution_count": 30,
     "metadata": {},
     "output_type": "execute_result"
    }
   ],
   "source": [
    "# On jette un coup d'oeil pour voir qu'il va falloir faire du nettoyage\n",
    "madrid.head()"
   ]
  },
  {
   "cell_type": "code",
   "execution_count": 31,
   "metadata": {},
   "outputs": [
    {
     "data": {
      "text/plain": [
       "Price        object\n",
       "Size (m²)    object\n",
       "Zone         object\n",
       "dtype: object"
      ]
     },
     "execution_count": 31,
     "metadata": {},
     "output_type": "execute_result"
    }
   ],
   "source": [
    "# On remarque aussi qu'il va falloir changer le type des colonnes pour pouvoir faire des régressions dessus \n",
    "madrid.dtypes"
   ]
  },
  {
   "cell_type": "code",
   "execution_count": 32,
   "metadata": {},
   "outputs": [
    {
     "data": {
      "text/plain": [
       "Price        0\n",
       "Size (m²)    0\n",
       "Zone         0\n",
       "dtype: int64"
      ]
     },
     "execution_count": 32,
     "metadata": {},
     "output_type": "execute_result"
    }
   ],
   "source": [
    "# On regarde s'il manque des données (pas besoin puisque comme tu as scrappé les données tu sais que le DataFrame est forcéement complet) \n",
    "madrid.isna().sum()"
   ]
  },
  {
   "cell_type": "markdown",
   "metadata": {},
   "source": [
    "# 3. Nettoyage des données"
   ]
  },
  {
   "cell_type": "code",
   "execution_count": 33,
   "metadata": {},
   "outputs": [],
   "source": [
    "# On utilise les expressions régulières pour nettoyer notre DataFrame \n",
    "madrid = madrid.replace(r'\\n',' ', regex=True)\n",
    "madrid = madrid.replace(r'\\r',' ', regex=True)\n",
    "madrid = madrid.replace(r'€/mes',' ', regex=True)\n",
    "madrid = madrid.replace(r'm²',' ', regex=True)"
   ]
  },
  {
   "cell_type": "code",
   "execution_count": 34,
   "metadata": {},
   "outputs": [
    {
     "data": {
      "text/html": [
       "<div>\n",
       "<style scoped>\n",
       "    .dataframe tbody tr th:only-of-type {\n",
       "        vertical-align: middle;\n",
       "    }\n",
       "\n",
       "    .dataframe tbody tr th {\n",
       "        vertical-align: top;\n",
       "    }\n",
       "\n",
       "    .dataframe thead th {\n",
       "        text-align: right;\n",
       "    }\n",
       "</style>\n",
       "<table border=\"1\" class=\"dataframe\">\n",
       "  <thead>\n",
       "    <tr style=\"text-align: right;\">\n",
       "      <th></th>\n",
       "      <th>Price</th>\n",
       "      <th>Size (m²)</th>\n",
       "      <th>Zone</th>\n",
       "    </tr>\n",
       "  </thead>\n",
       "  <tbody>\n",
       "    <tr>\n",
       "      <td>0</td>\n",
       "      <td>2.100</td>\n",
       "      <td>313             ...</td>\n",
       "      <td>La Berzosilla (Torrelodones)...</td>\n",
       "    </tr>\n",
       "    <tr>\n",
       "      <td>1</td>\n",
       "      <td>700</td>\n",
       "      <td>60              ...</td>\n",
       "      <td>Zona Noreste (Torrejón de Ar...</td>\n",
       "    </tr>\n",
       "    <tr>\n",
       "      <td>2</td>\n",
       "      <td>750</td>\n",
       "      <td>80              ...</td>\n",
       "      <td>San Agustín del Guadalix    ...</td>\n",
       "    </tr>\n",
       "    <tr>\n",
       "      <td>3</td>\n",
       "      <td>1.500</td>\n",
       "      <td>255             ...</td>\n",
       "      <td>San Agustín del Guadalix    ...</td>\n",
       "    </tr>\n",
       "    <tr>\n",
       "      <td>4</td>\n",
       "      <td>750</td>\n",
       "      <td>63              ...</td>\n",
       "      <td>Casco Antiguo (Alcorcón)    ...</td>\n",
       "    </tr>\n",
       "  </tbody>\n",
       "</table>\n",
       "</div>"
      ],
      "text/plain": [
       "                                Price  \\\n",
       "0                            2.100      \n",
       "1                              700      \n",
       "2                              750      \n",
       "3                            1.500      \n",
       "4                              750      \n",
       "\n",
       "                                           Size (m²)  \\\n",
       "0                                313             ...   \n",
       "1                                60              ...   \n",
       "2                                80              ...   \n",
       "3                                255             ...   \n",
       "4                                63              ...   \n",
       "\n",
       "                                                Zone  \n",
       "0                    La Berzosilla (Torrelodones)...  \n",
       "1                    Zona Noreste (Torrejón de Ar...  \n",
       "2                    San Agustín del Guadalix    ...  \n",
       "3                    San Agustín del Guadalix    ...  \n",
       "4                    Casco Antiguo (Alcorcón)    ...  "
      ]
     },
     "execution_count": 34,
     "metadata": {},
     "output_type": "execute_result"
    }
   ],
   "source": [
    "madrid.head()"
   ]
  },
  {
   "cell_type": "code",
   "execution_count": 35,
   "metadata": {},
   "outputs": [
    {
     "data": {
      "text/plain": [
       "Price        object\n",
       "Size (m²)    object\n",
       "Zone         object\n",
       "dtype: object"
      ]
     },
     "execution_count": 35,
     "metadata": {},
     "output_type": "execute_result"
    }
   ],
   "source": [
    "madrid.dtypes"
   ]
  },
  {
   "cell_type": "code",
   "execution_count": 36,
   "metadata": {},
   "outputs": [],
   "source": [
    "# On va convertir les deux premières colonnes le errors ='coerce' est très important \n",
    "# car il transforme les problèmes de conversion en des 'Nan', après cela il suffit de dropna pour obtenir un DataFrame nettoyé\n",
    "\n",
    "# Price\n",
    "madrid['Price'] = pd.to_numeric(madrid['Price'], errors ='coerce')\n",
    "madrid.dropna(subset=['Price'], inplace=True)\n",
    "\n",
    "# Size (m²)\n",
    "madrid['Size (m²)'] = pd.to_numeric(madrid['Size (m²)'], errors='coerce')\n",
    "madrid.dropna(subset=['Size (m²)'], inplace=True)"
   ]
  },
  {
   "cell_type": "code",
   "execution_count": 38,
   "metadata": {},
   "outputs": [
    {
     "data": {
      "text/html": [
       "<div>\n",
       "<style scoped>\n",
       "    .dataframe tbody tr th:only-of-type {\n",
       "        vertical-align: middle;\n",
       "    }\n",
       "\n",
       "    .dataframe tbody tr th {\n",
       "        vertical-align: top;\n",
       "    }\n",
       "\n",
       "    .dataframe thead th {\n",
       "        text-align: right;\n",
       "    }\n",
       "</style>\n",
       "<table border=\"1\" class=\"dataframe\">\n",
       "  <thead>\n",
       "    <tr style=\"text-align: right;\">\n",
       "      <th></th>\n",
       "      <th>Price</th>\n",
       "      <th>Size (m²)</th>\n",
       "      <th>Zone</th>\n",
       "    </tr>\n",
       "  </thead>\n",
       "  <tbody>\n",
       "    <tr>\n",
       "      <td>0</td>\n",
       "      <td>2.1</td>\n",
       "      <td>313.0</td>\n",
       "      <td>La Berzosilla (Torrelodones)...</td>\n",
       "    </tr>\n",
       "    <tr>\n",
       "      <td>1</td>\n",
       "      <td>700.0</td>\n",
       "      <td>60.0</td>\n",
       "      <td>Zona Noreste (Torrejón de Ar...</td>\n",
       "    </tr>\n",
       "    <tr>\n",
       "      <td>2</td>\n",
       "      <td>750.0</td>\n",
       "      <td>80.0</td>\n",
       "      <td>San Agustín del Guadalix    ...</td>\n",
       "    </tr>\n",
       "    <tr>\n",
       "      <td>3</td>\n",
       "      <td>1.5</td>\n",
       "      <td>255.0</td>\n",
       "      <td>San Agustín del Guadalix    ...</td>\n",
       "    </tr>\n",
       "    <tr>\n",
       "      <td>4</td>\n",
       "      <td>750.0</td>\n",
       "      <td>63.0</td>\n",
       "      <td>Casco Antiguo (Alcorcón)    ...</td>\n",
       "    </tr>\n",
       "  </tbody>\n",
       "</table>\n",
       "</div>"
      ],
      "text/plain": [
       "   Price  Size (m²)                                               Zone\n",
       "0    2.1      313.0                    La Berzosilla (Torrelodones)...\n",
       "1  700.0       60.0                    Zona Noreste (Torrejón de Ar...\n",
       "2  750.0       80.0                    San Agustín del Guadalix    ...\n",
       "3    1.5      255.0                    San Agustín del Guadalix    ...\n",
       "4  750.0       63.0                    Casco Antiguo (Alcorcón)    ..."
      ]
     },
     "execution_count": 38,
     "metadata": {},
     "output_type": "execute_result"
    }
   ],
   "source": [
    "# Seul petit problème dont je n'ai pas encore la solution, les loyers supérieurs ont été divisé par un facteur mille\n",
    "madrid.head()"
   ]
  },
  {
   "cell_type": "code",
   "execution_count": 39,
   "metadata": {},
   "outputs": [
    {
     "data": {
      "text/plain": [
       "Price        float64\n",
       "Size (m²)    float64\n",
       "Zone          object\n",
       "dtype: object"
      ]
     },
     "execution_count": 39,
     "metadata": {},
     "output_type": "execute_result"
    }
   ],
   "source": [
    "madrid.dtypes"
   ]
  },
  {
   "cell_type": "code",
   "execution_count": null,
   "metadata": {},
   "outputs": [],
   "source": []
  }
 ],
 "metadata": {
  "kernelspec": {
   "display_name": "Python 3",
   "language": "python",
   "name": "python3"
  },
  "language_info": {
   "codemirror_mode": {
    "name": "ipython",
    "version": 3
   },
   "file_extension": ".py",
   "mimetype": "text/x-python",
   "name": "python",
   "nbconvert_exporter": "python",
   "pygments_lexer": "ipython3",
   "version": "3.7.4"
  }
 },
 "nbformat": 4,
 "nbformat_minor": 4
}
